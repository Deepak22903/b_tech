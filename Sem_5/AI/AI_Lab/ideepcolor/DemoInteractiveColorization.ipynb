{
 "cells": [
  {
   "cell_type": "markdown",
   "metadata": {},
   "source": [
    "# Quick Demo of Interactive Deep Colorization\n",
    "\n",
    "This iPython Notebook gives a quick demonstration of our system, and requires a working installation of Caffe. For the full demo with our user interface, see the README of this repository (QT installation is required)."
   ]
  },
  {
   "cell_type": "code",
   "execution_count": 6,
   "metadata": {
    "collapsed": false,
    "jupyter": {
     "outputs_hidden": false
    }
   },
   "outputs": [
    {
     "name": "stdout",
     "output_type": "stream",
     "text": [
      "ColorizeImageCaffe instantiated\n",
      "gpu_id = 0, net_path = ./models/reference_model/deploy_nodist.prototxt, model_path = ./models/reference_model/model.caffemodel\n"
     ]
    },
    {
     "ename": "AttributeError",
     "evalue": "module 'caffe' has no attribute 'set_device'",
     "output_type": "error",
     "traceback": [
      "\u001b[0;31m---------------------------------------------------------------------------\u001b[0m",
      "\u001b[0;31mAttributeError\u001b[0m                            Traceback (most recent call last)",
      "Cell \u001b[0;32mIn[6], line 14\u001b[0m\n\u001b[1;32m     11\u001b[0m colorModel \u001b[38;5;241m=\u001b[39m CI\u001b[38;5;241m.\u001b[39mColorizeImageCaffe(Xd\u001b[38;5;241m=\u001b[39m\u001b[38;5;241m256\u001b[39m)\n\u001b[1;32m     13\u001b[0m \u001b[38;5;66;03m# Load the model\u001b[39;00m\n\u001b[0;32m---> 14\u001b[0m \u001b[43mcolorModel\u001b[49m\u001b[38;5;241;43m.\u001b[39;49m\u001b[43mprep_net\u001b[49m\u001b[43m(\u001b[49m\u001b[43mgpu_id\u001b[49m\u001b[43m,\u001b[49m\u001b[38;5;124;43m'\u001b[39;49m\u001b[38;5;124;43m./models/reference_model/deploy_nodist.prototxt\u001b[39;49m\u001b[38;5;124;43m'\u001b[39;49m\u001b[43m,\u001b[49m\u001b[38;5;124;43m'\u001b[39;49m\u001b[38;5;124;43m./models/reference_model/model.caffemodel\u001b[39;49m\u001b[38;5;124;43m'\u001b[39;49m\u001b[43m)\u001b[49m\n",
      "File \u001b[0;32m/mnt/deepak/data/B_Tech/Sem_5/AI_Lab/ideepcolor/data/colorize_image.py:398\u001b[0m, in \u001b[0;36mColorizeImageCaffe.prep_net\u001b[0;34m(self, gpu_id, prototxt_path, caffemodel_path)\u001b[0m\n\u001b[1;32m    396\u001b[0m     caffe\u001b[38;5;241m.\u001b[39mset_mode_cpu()\n\u001b[1;32m    397\u001b[0m \u001b[38;5;28;01melse\u001b[39;00m:\n\u001b[0;32m--> 398\u001b[0m     \u001b[43mcaffe\u001b[49m\u001b[38;5;241;43m.\u001b[39;49m\u001b[43mset_device\u001b[49m(gpu_id)\n\u001b[1;32m    399\u001b[0m     caffe\u001b[38;5;241m.\u001b[39mset_mode_gpu()\n\u001b[1;32m    400\u001b[0m \u001b[38;5;28mself\u001b[39m\u001b[38;5;241m.\u001b[39mgpu_id \u001b[38;5;241m=\u001b[39m gpu_id\n",
      "\u001b[0;31mAttributeError\u001b[0m: module 'caffe' has no attribute 'set_device'"
     ]
    }
   ],
   "source": [
    "from data import colorize_image as CI\n",
    "import matplotlib.pyplot as plt\n",
    "import numpy as np\n",
    "\n",
    "%matplotlib inline\n",
    "\n",
    "# Choose gpu to run the model on\n",
    "gpu_id = 0\n",
    "\n",
    "# Initialize colorization class\n",
    "colorModel = CI.ColorizeImageCaffe(Xd=256)\n",
    "\n",
    "# Load the model\n",
    "colorModel.prep_net(gpu_id,'./models/reference_model/deploy_nodist.prototxt','./models/reference_model/model.caffemodel')"
   ]
  },
  {
   "cell_type": "markdown",
   "metadata": {},
   "source": [
    "## Load an image"
   ]
  },
  {
   "cell_type": "code",
   "execution_count": null,
   "metadata": {
    "collapsed": false,
    "jupyter": {
     "outputs_hidden": false
    }
   },
   "outputs": [],
   "source": [
    "# Load the image\n",
    "colorModel.load_image('./test_imgs/mortar_pestle.jpg') # load an image"
   ]
  },
  {
   "cell_type": "markdown",
   "metadata": {
    "collapsed": true,
    "jupyter": {
     "outputs_hidden": true
    }
   },
   "source": [
    "## Default prediction\n",
    "\n",
    "First, let's see what the model produces when given no user points. It is performing automatic colorization."
   ]
  },
  {
   "cell_type": "code",
   "execution_count": null,
   "metadata": {
    "collapsed": false,
    "jupyter": {
     "outputs_hidden": false
    }
   },
   "outputs": [],
   "source": [
    "mask = np.zeros((1,256,256)) # giving no user points, so mask is all 0's\n",
    "input_ab = np.zeros((2,256,256)) # ab values of user points, default to 0 for no input\n",
    "img_out = colorModel.net_forward(input_ab,mask) # run model, returns 256x256 image\n",
    "\n",
    "img_gray_fullres = colorModel.get_img_gray_fullres() # get grayscale image at fullresolution\n",
    "img_out_fullres = colorModel.get_img_fullres() # get image at full resolution\n",
    "\n",
    "# show result\n",
    "plt.figure(figsize=(7,3))\n",
    "plt.imshow(np.concatenate((img_gray_fullres,img_out_fullres),axis=1)); plt.axis('off');"
   ]
  },
  {
   "cell_type": "markdown",
   "metadata": {},
   "source": [
    "## Adding user inputs\n",
    "\n",
    "Let's now add the ability to add user inputs. Function ```put_point()```, defined below, will add user input of color ```val``` at location ```loc``` with size ```(2p+1)x(2p+1)```."
   ]
  },
  {
   "cell_type": "code",
   "execution_count": null,
   "metadata": {},
   "outputs": [],
   "source": [
    "def put_point(input_ab,mask,loc,p,val):\n",
    "    # input_ab    2x256x256    current user ab input (will be updated)\n",
    "    # mask        1x256x256    binary mask of current user input (will be updated)\n",
    "    # loc         2 tuple      (h,w) of where to put the user input\n",
    "    # p           scalar       half-patch size\n",
    "    # val         2 tuple      (a,b) value of user input\n",
    "    input_ab[:,loc[0]-p:loc[0]+p+1,loc[1]-p:loc[1]+p+1] = np.array(val)[:,np.newaxis,np.newaxis]\n",
    "    mask[:,loc[0]-p:loc[0]+p+1,loc[1]-p:loc[1]+p+1] = 1\n",
    "    return (input_ab,mask)"
   ]
  },
  {
   "cell_type": "markdown",
   "metadata": {},
   "source": [
    "Now, we will add a single blue point in the middle of the image, and see what the network predicts."
   ]
  },
  {
   "cell_type": "code",
   "execution_count": null,
   "metadata": {
    "collapsed": false,
    "jupyter": {
     "outputs_hidden": false
    }
   },
   "outputs": [],
   "source": [
    "# initialize with no user inputs\n",
    "input_ab = np.zeros((2,256,256))\n",
    "mask = np.zeros((1,256,256))\n",
    "\n",
    "# add a blue point in the middle of the image\n",
    "(input_ab,mask) = put_point(input_ab,mask,[135,160],3,[23,-69])\n",
    "\n",
    "# call forward\n",
    "img_out = colorModel.net_forward(input_ab,mask)\n",
    "\n",
    "# get mask, input image, and result in full resolution\n",
    "mask_fullres = colorModel.get_img_mask_fullres() # get input mask in full res\n",
    "img_in_fullres = colorModel.get_input_img_fullres() # get input image in full res\n",
    "img_out_fullres = colorModel.get_img_fullres() # get image at full resolution\n",
    "\n",
    "# show user input, along with output\n",
    "plt.figure(figsize=(10,6))\n",
    "plt.imshow(np.concatenate((mask_fullres,img_in_fullres,img_out_fullres),axis=1));\n",
    "plt.title('Mask of user points / Input grayscale with user points / Output olorization')\n",
    "plt.axis('off');"
   ]
  },
  {
   "cell_type": "markdown",
   "metadata": {},
   "source": [
    "The cup is blue! However, the result above has some leakage into the inside of the cup. Let's clean it up by placing a gray point inside of the cup."
   ]
  },
  {
   "cell_type": "code",
   "execution_count": 2,
   "metadata": {
    "collapsed": false,
    "jupyter": {
     "outputs_hidden": false
    }
   },
   "outputs": [
    {
     "ename": "NameError",
     "evalue": "name 'put_point' is not defined",
     "output_type": "error",
     "traceback": [
      "\u001b[0;31m---------------------------------------------------------------------------\u001b[0m",
      "\u001b[0;31mNameError\u001b[0m                                 Traceback (most recent call last)",
      "Cell \u001b[0;32mIn[2], line 2\u001b[0m\n\u001b[1;32m      1\u001b[0m \u001b[38;5;66;03m# add a gray point in the inside of the cup\u001b[39;00m\n\u001b[0;32m----> 2\u001b[0m (input_ab,mask) \u001b[38;5;241m=\u001b[39m \u001b[43mput_point\u001b[49m(input_ab,mask,[\u001b[38;5;241m100\u001b[39m,\u001b[38;5;241m160\u001b[39m],\u001b[38;5;241m3\u001b[39m,[\u001b[38;5;241m0\u001b[39m,\u001b[38;5;241m0\u001b[39m])\n\u001b[1;32m      4\u001b[0m \u001b[38;5;66;03m# call forward\u001b[39;00m\n\u001b[1;32m      5\u001b[0m img_out \u001b[38;5;241m=\u001b[39m colorModel\u001b[38;5;241m.\u001b[39mnet_forward(input_ab,mask)\n",
      "\u001b[0;31mNameError\u001b[0m: name 'put_point' is not defined"
     ]
    }
   ],
   "source": [
    "# add a gray point in the inside of the cup\n",
    "(input_ab,mask) = put_point(input_ab,mask,[100,160],3,[0,0])\n",
    "\n",
    "# call forward\n",
    "img_out = colorModel.net_forward(input_ab,mask)\n",
    "\n",
    "# get mask, input image, and result in full resolution\n",
    "mask_fullres = colorModel.get_img_mask_fullres() # get input mask in full res\n",
    "img_in_fullres = colorModel.get_input_img_fullres() # get input image in full res\n",
    "img_out_fullres = colorModel.get_img_fullres() # get image at full resolution\n",
    "\n",
    "# show user input, along with output\n",
    "plt.figure(figsize=(10,6))\n",
    "plt.imshow(np.concatenate((mask_fullres,img_in_fullres,img_out_fullres),axis=1));\n",
    "plt.title('Mask of user points / Input grayscale with user points / Output olorization')\n",
    "plt.axis('off');"
   ]
  },
  {
   "cell_type": "code",
   "execution_count": null,
   "metadata": {},
   "outputs": [],
   "source": []
  }
 ],
 "metadata": {
  "kernelspec": {
   "display_name": "Python 3 (ipykernel)",
   "language": "python",
   "name": "python3"
  },
  "language_info": {
   "codemirror_mode": {
    "name": "ipython",
    "version": 3
   },
   "file_extension": ".py",
   "mimetype": "text/x-python",
   "name": "python",
   "nbconvert_exporter": "python",
   "pygments_lexer": "ipython3",
   "version": "3.12.5"
  }
 },
 "nbformat": 4,
 "nbformat_minor": 4
}
