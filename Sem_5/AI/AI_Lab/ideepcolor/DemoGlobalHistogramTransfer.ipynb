{
 "cells": [
  {
   "cell_type": "markdown",
   "metadata": {},
   "source": [
    "# Quick Demo of Global Histogram Transfer\n",
    "\n",
    "This iPython Notebook gives a quick demonstration of our system, and requires a working installation of Caffe. Directory ```./caffe_files``` should be appended to ```PYTHONPATH``` in your system."
   ]
  },
  {
   "cell_type": "code",
   "execution_count": 1,
   "metadata": {
    "collapsed": false,
    "jupyter": {
     "outputs_hidden": false
    }
   },
   "outputs": [],
   "source": [
    "import caffe\n",
    "import numpy as np\n",
    "import scipy as sp\n",
    "import matplotlib.pyplot as plt\n",
    "from data import colorize_image as CI\n",
    "from skimage import color\n",
    "from data import lab_gamut as lab\n",
    "\n",
    "%matplotlib inline"
   ]
  },
  {
   "cell_type": "markdown",
   "metadata": {},
   "source": [
    "## Select images\n",
    "\n",
    "Images used in our camera ready paper are in directory ```./test_imgs```"
   ]
  },
  {
   "cell_type": "code",
   "execution_count": 2,
   "metadata": {
    "collapsed": false,
    "jupyter": {
     "outputs_hidden": false
    }
   },
   "outputs": [],
   "source": [
    "# image to colorize\n",
    "img_path = './test_imgs/bird_gray.jpg'\n",
    "\n",
    "# color histogram to use\n",
    "ref_path = './test_imgs/global_ref_bird/ILSVRC2012_val_00002383.JPEG'"
   ]
  },
  {
   "cell_type": "markdown",
   "metadata": {},
   "source": [
    "## Load colorization network"
   ]
  },
  {
   "cell_type": "code",
   "execution_count": 3,
   "metadata": {
    "collapsed": false,
    "jupyter": {
     "outputs_hidden": false
    }
   },
   "outputs": [
    {
     "name": "stdout",
     "output_type": "stream",
     "text": [
      "ColorizeImageCaffe instantiated\n",
      "gpu_id = 0, net_path = ./models/global_model/deploy_nodist.prototxt, model_path = ./models/global_model/global_model.caffemodel\n"
     ]
    },
    {
     "ename": "AttributeError",
     "evalue": "module 'caffe' has no attribute 'set_device'",
     "output_type": "error",
     "traceback": [
      "\u001b[0;31m---------------------------------------------------------------------------\u001b[0m",
      "\u001b[0;31mAttributeError\u001b[0m                            Traceback (most recent call last)",
      "Cell \u001b[0;32mIn[3], line 6\u001b[0m\n\u001b[1;32m      4\u001b[0m \u001b[38;5;66;03m# Colorization network\u001b[39;00m\n\u001b[1;32m      5\u001b[0m cid \u001b[38;5;241m=\u001b[39m CI\u001b[38;5;241m.\u001b[39mColorizeImageCaffeGlobDist(Xd)\n\u001b[0;32m----> 6\u001b[0m \u001b[43mcid\u001b[49m\u001b[38;5;241;43m.\u001b[39;49m\u001b[43mprep_net\u001b[49m\u001b[43m(\u001b[49m\u001b[43mgpu_id\u001b[49m\u001b[43m,\u001b[49m\u001b[43mprototxt_path\u001b[49m\u001b[38;5;241;43m=\u001b[39;49m\u001b[38;5;124;43m'\u001b[39;49m\u001b[38;5;124;43m./models/global_model/deploy_nodist.prototxt\u001b[39;49m\u001b[38;5;124;43m'\u001b[39;49m\u001b[43m,\u001b[49m\u001b[43m\\\u001b[49m\n\u001b[1;32m      7\u001b[0m \u001b[43m            \u001b[49m\u001b[43mcaffemodel_path\u001b[49m\u001b[38;5;241;43m=\u001b[39;49m\u001b[38;5;124;43m'\u001b[39;49m\u001b[38;5;124;43m./models/global_model/global_model.caffemodel\u001b[39;49m\u001b[38;5;124;43m'\u001b[39;49m\u001b[43m)\u001b[49m\n\u001b[1;32m      9\u001b[0m \u001b[38;5;66;03m# Global distribution network - extracts global color statistics from an image\u001b[39;00m\n\u001b[1;32m     10\u001b[0m gt_glob_net \u001b[38;5;241m=\u001b[39m caffe\u001b[38;5;241m.\u001b[39mNet(\u001b[38;5;124m'\u001b[39m\u001b[38;5;124m./models/global_model/global_stats.prototxt\u001b[39m\u001b[38;5;124m'\u001b[39m,\\\n\u001b[1;32m     11\u001b[0m                        \u001b[38;5;124m'\u001b[39m\u001b[38;5;124m./models/global_model/dummy.caffemodel\u001b[39m\u001b[38;5;124m'\u001b[39m, caffe\u001b[38;5;241m.\u001b[39mTEST)\n",
      "File \u001b[0;32m/mnt/deepak/data/B_Tech/Sem_5/AI_Lab/ideepcolor/data/colorize_image.py:398\u001b[0m, in \u001b[0;36mColorizeImageCaffe.prep_net\u001b[0;34m(self, gpu_id, prototxt_path, caffemodel_path)\u001b[0m\n\u001b[1;32m    396\u001b[0m     caffe\u001b[38;5;241m.\u001b[39mset_mode_cpu()\n\u001b[1;32m    397\u001b[0m \u001b[38;5;28;01melse\u001b[39;00m:\n\u001b[0;32m--> 398\u001b[0m     \u001b[43mcaffe\u001b[49m\u001b[38;5;241;43m.\u001b[39;49m\u001b[43mset_device\u001b[49m(gpu_id)\n\u001b[1;32m    399\u001b[0m     caffe\u001b[38;5;241m.\u001b[39mset_mode_gpu()\n\u001b[1;32m    400\u001b[0m \u001b[38;5;28mself\u001b[39m\u001b[38;5;241m.\u001b[39mgpu_id \u001b[38;5;241m=\u001b[39m gpu_id\n",
      "\u001b[0;31mAttributeError\u001b[0m: module 'caffe' has no attribute 'set_device'"
     ]
    }
   ],
   "source": [
    "gpu_id = 0 # gpu to use\n",
    "Xd = 256\n",
    "\n",
    "# Colorization network\n",
    "cid = CI.ColorizeImageCaffeGlobDist(Xd)\n",
    "cid.prep_net(gpu_id,prototxt_path='./models/global_model/deploy_nodist.prototxt',\\\n",
    "            caffemodel_path='./models/global_model/global_model.caffemodel')\n",
    "\n",
    "# Global distribution network - extracts global color statistics from an image\n",
    "gt_glob_net = caffe.Net('./models/global_model/global_stats.prototxt',\\\n",
    "                       './models/global_model/dummy.caffemodel', caffe.TEST)"
   ]
  },
  {
   "cell_type": "markdown",
   "metadata": {},
   "source": [
    "## Colorization in automatic mode (with no reference histogram)"
   ]
  },
  {
   "cell_type": "code",
   "execution_count": 4,
   "metadata": {
    "collapsed": false,
    "jupyter": {
     "outputs_hidden": false
    }
   },
   "outputs": [
    {
     "ename": "AttributeError",
     "evalue": "'ColorizeImageCaffeGlobDist' object has no attribute 'net'",
     "output_type": "error",
     "traceback": [
      "\u001b[0;31m---------------------------------------------------------------------------\u001b[0m",
      "\u001b[0;31mAttributeError\u001b[0m                            Traceback (most recent call last)",
      "Cell \u001b[0;32mIn[4], line 9\u001b[0m\n\u001b[1;32m      6\u001b[0m input_mask \u001b[38;5;241m=\u001b[39m np\u001b[38;5;241m.\u001b[39mzeros((\u001b[38;5;241m1\u001b[39m,Xd,Xd))\n\u001b[1;32m      8\u001b[0m \u001b[38;5;66;03m# Colorization without global histogram\u001b[39;00m\n\u001b[0;32m----> 9\u001b[0m img_pred \u001b[38;5;241m=\u001b[39m \u001b[43mcid\u001b[49m\u001b[38;5;241;43m.\u001b[39;49m\u001b[43mnet_forward\u001b[49m\u001b[43m(\u001b[49m\u001b[43minput_ab\u001b[49m\u001b[43m,\u001b[49m\u001b[43minput_mask\u001b[49m\u001b[43m)\u001b[49m;\n\u001b[1;32m     10\u001b[0m img_pred_auto_fullres \u001b[38;5;241m=\u001b[39m cid\u001b[38;5;241m.\u001b[39mget_img_fullres()\n\u001b[1;32m     12\u001b[0m \u001b[38;5;66;03m# Gray image\u001b[39;00m\n",
      "File \u001b[0;32m/mnt/deepak/data/B_Tech/Sem_5/AI_Lab/ideepcolor/data/colorize_image.py:455\u001b[0m, in \u001b[0;36mColorizeImageCaffeGlobDist.net_forward\u001b[0;34m(self, input_ab, input_mask, glob_dist)\u001b[0m\n\u001b[1;32m    452\u001b[0m \u001b[38;5;28;01mdef\u001b[39;00m \u001b[38;5;21mnet_forward\u001b[39m(\u001b[38;5;28mself\u001b[39m, input_ab, input_mask, glob_dist\u001b[38;5;241m=\u001b[39m\u001b[38;5;241m-\u001b[39m\u001b[38;5;241m1\u001b[39m):\n\u001b[1;32m    453\u001b[0m     \u001b[38;5;66;03m# glob_dist is 313 array, or -1\u001b[39;00m\n\u001b[1;32m    454\u001b[0m     \u001b[38;5;28;01mif\u001b[39;00m np\u001b[38;5;241m.\u001b[39marray(glob_dist)\u001b[38;5;241m.\u001b[39mflatten()[\u001b[38;5;241m0\u001b[39m] \u001b[38;5;241m==\u001b[39m \u001b[38;5;241m-\u001b[39m\u001b[38;5;241m1\u001b[39m:  \u001b[38;5;66;03m# run without this, zero it out\u001b[39;00m\n\u001b[0;32m--> 455\u001b[0m         \u001b[38;5;28;43mself\u001b[39;49m\u001b[38;5;241;43m.\u001b[39;49m\u001b[43mnet\u001b[49m\u001b[38;5;241m.\u001b[39mblobs[\u001b[38;5;28mself\u001b[39m\u001b[38;5;241m.\u001b[39mglob_layer]\u001b[38;5;241m.\u001b[39mdata[\u001b[38;5;241m0\u001b[39m, :\u001b[38;5;241m-\u001b[39m\u001b[38;5;241m1\u001b[39m, \u001b[38;5;241m0\u001b[39m, \u001b[38;5;241m0\u001b[39m] \u001b[38;5;241m=\u001b[39m \u001b[38;5;241m0.\u001b[39m\n\u001b[1;32m    456\u001b[0m         \u001b[38;5;28mself\u001b[39m\u001b[38;5;241m.\u001b[39mnet\u001b[38;5;241m.\u001b[39mblobs[\u001b[38;5;28mself\u001b[39m\u001b[38;5;241m.\u001b[39mglob_layer]\u001b[38;5;241m.\u001b[39mdata[\u001b[38;5;241m0\u001b[39m, \u001b[38;5;241m-\u001b[39m\u001b[38;5;241m1\u001b[39m, \u001b[38;5;241m0\u001b[39m, \u001b[38;5;241m0\u001b[39m] \u001b[38;5;241m=\u001b[39m \u001b[38;5;241m0.\u001b[39m\n\u001b[1;32m    457\u001b[0m     \u001b[38;5;28;01melse\u001b[39;00m:  \u001b[38;5;66;03m# run conditioned on global histogram\u001b[39;00m\n",
      "\u001b[0;31mAttributeError\u001b[0m: 'ColorizeImageCaffeGlobDist' object has no attribute 'net'"
     ]
    }
   ],
   "source": [
    "# Load image\n",
    "cid.load_image(img_path)\n",
    "\n",
    "# Dummy variables\n",
    "input_ab = np.zeros((2,Xd,Xd))\n",
    "input_mask = np.zeros((1,Xd,Xd))\n",
    "\n",
    "# Colorization without global histogram\n",
    "img_pred = cid.net_forward(input_ab,input_mask);\n",
    "img_pred_auto_fullres = cid.get_img_fullres()\n",
    "\n",
    "# Gray image\n",
    "img_gray_fullres = cid.get_img_gray_fullres()\n",
    "\n",
    "# Plot result\n",
    "plt.figure(figsize=(10,4))\n",
    "plt.imshow(np.concatenate((img_gray_fullres,img_pred_auto_fullres),axis=1));\n",
    "plt.title('Grayscale image / Automatic colorization (no reference histogram)')\n",
    "plt.axis('off');"
   ]
  },
  {
   "cell_type": "markdown",
   "metadata": {},
   "source": [
    "## Colorization with reference global histogram"
   ]
  },
  {
   "cell_type": "code",
   "execution_count": null,
   "metadata": {
    "collapsed": false,
    "jupyter": {
     "outputs_hidden": false
    }
   },
   "outputs": [],
   "source": [
    "# Colorization with reference global histogram\n",
    "def get_global_histogram(ref_path):\n",
    "    ref_img_fullres = caffe.io.load_image(ref_path)\n",
    "    img_glob_dist = (255*caffe.io.resize_image(ref_img_fullres,(Xd,Xd))).astype('uint8') # load image\n",
    "    gt_glob_net.blobs['img_bgr'].data[...] = img_glob_dist[:,:,::-1].transpose((2,0,1)) # put into \n",
    "    gt_glob_net.forward();\n",
    "    glob_dist_in = gt_glob_net.blobs['gt_glob_ab_313_drop'].data[0,:-1,0,0].copy()\n",
    "    return (glob_dist_in,ref_img_fullres)\n",
    "\n",
    "(glob_dist_ref,ref_img_fullres) = get_global_histogram(ref_path)\n",
    "img_pred = cid.net_forward(input_ab,input_mask,glob_dist_ref);\n",
    "img_pred_withref_fullres = cid.get_img_fullres()\n",
    "\n",
    "plt.figure(figsize=(10,4))\n",
    "plt.imshow(np.concatenate((img_gray_fullres,img_pred_withref_fullres),axis=1));\n",
    "plt.title('Grayscale image / Resulting colorization with reference histogram')\n",
    "plt.axis('off');\n",
    "\n",
    "plt.figure(figsize=(4,4))\n",
    "plt.imshow(ref_img_fullres);\n",
    "plt.title('Reference image');\n",
    "plt.axis('off');"
   ]
  },
  {
   "cell_type": "code",
   "execution_count": null,
   "metadata": {
    "collapsed": false,
    "jupyter": {
     "outputs_hidden": false
    }
   },
   "outputs": [],
   "source": []
  },
  {
   "cell_type": "code",
   "execution_count": null,
   "metadata": {
    "collapsed": true,
    "jupyter": {
     "outputs_hidden": true
    }
   },
   "outputs": [],
   "source": []
  },
  {
   "cell_type": "code",
   "execution_count": null,
   "metadata": {},
   "outputs": [],
   "source": []
  },
  {
   "cell_type": "code",
   "execution_count": null,
   "metadata": {},
   "outputs": [],
   "source": []
  }
 ],
 "metadata": {
  "kernelspec": {
   "display_name": "Python 3 (ipykernel)",
   "language": "python",
   "name": "python3"
  },
  "language_info": {
   "codemirror_mode": {
    "name": "ipython",
    "version": 3
   },
   "file_extension": ".py",
   "mimetype": "text/x-python",
   "name": "python",
   "nbconvert_exporter": "python",
   "pygments_lexer": "ipython3",
   "version": "3.12.5"
  }
 },
 "nbformat": 4,
 "nbformat_minor": 4
}
